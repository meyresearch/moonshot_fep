{
 "cells": [
  {
   "cell_type": "code",
   "execution_count": 94,
   "id": "7c6acb9a-55b9-48c4-a8da-c7990e3a46b2",
   "metadata": {},
   "outputs": [],
   "source": [
    "import BioSimSpace as BSS\n",
    "import pandas as pd\n",
    "import os"
   ]
  },
  {
   "cell_type": "code",
   "execution_count": 5,
   "id": "bab5521e-5ed4-4b5e-bb2f-03efb85dbb6d",
   "metadata": {},
   "outputs": [],
   "source": [
    "'''\n",
    "node = BSS.Gateway.Node(\"FEP\")\n",
    "node.addAuthor(name = \"Ryan\")\n",
    "node.setLicense(\"GPLv3\")\n",
    "\n",
    "node.addInput(\"ProteinFile\", BSS.Gateway.File(help = \"Input the protein file.\"))\n",
    "node.addInput(\"RefLigandFile\", BSS.Gateway.FileSet(help = \"Input the reference ligand file.\"))\n",
    "node.addInput(\"LigandFiles\", BSS.Gateway.FileSet(help = \"Input ligand files.\"))\n",
    "\n",
    "node.showControls()\n",
    "'''"
   ]
  },
  {
   "cell_type": "code",
   "execution_count": 39,
   "id": "d359b656-52b0-40e2-a2c3-42237ad7a5de",
   "metadata": {},
   "outputs": [
    {
     "name": "stdout",
     "output_type": "stream",
     "text": [
      "Decompressing...\n",
      "Mpro-P0025_0B.pdb\n",
      "Mpro-P0022_0A.pdb\n",
      "Decompressing...\n",
      "Mpro-P0025_0B.pdb\n",
      "Mpro-P0022_0A.pdb\n",
      "Decompressing...\n",
      "Mpro-P0025_0B.pdb\n",
      "Mpro-P0022_0A.pdb\n"
     ]
    }
   ],
   "source": [
    "# Read the protein, reference ligand, and several test ligands via nodes\n",
    "'''\n",
    "protein = BSS.IO.readMolecules(node.getInput(\"ProteinFile\"))[0]\n",
    "ref_ligand = BSS.IO.readMolecules(node.getInput(\"RefLigandFile\"))[0]\n",
    "ligands = [BSS.IO.readMolecules(i)[0] for i in node.getInput(\"LigandFiles\")]\n",
    "'''"
   ]
  },
  {
   "cell_type": "code",
   "execution_count": 92,
   "id": "746ea7d9-94a4-4b7d-a20c-5709ca2b75fa",
   "metadata": {},
   "outputs": [],
   "source": [
    "# Without using nodes...\n",
    "# Protein, reference ligand, and test ligand files in separate directories.\n",
    "\n",
    "ligands_name = !ls ligands\n",
    "\n",
    "protein = BSS.IO.readMolecules('protein/*')[0]\n",
    "ref_ligand = BSS.IO.readMolecules('ref_ligand/*')[0]\n",
    "ligands = {title.split('.')[0] : BSS.IO.readMolecules('ligands/' + title)[0] for title in ligands_name}"
   ]
  },
  {
   "cell_type": "code",
   "execution_count": 95,
   "id": "cce36c78-84de-4556-aff8-2a248a67b8eb",
   "metadata": {},
   "outputs": [
    {
     "ename": "ParameterisationError",
     "evalue": "Parameterisation failed! Last error: 'tLEaP added missing atoms. The topology is now inconsistent with the original molecule. Please make sure that your initial molecule has a complete topology.'",
     "output_type": "error",
     "traceback": [
      "\u001b[0;31m---------------------------------------------------------------------------\u001b[0m",
      "\u001b[0;31mParameterisationError\u001b[0m                     Traceback (most recent call last)",
      "\u001b[0;32m<ipython-input-95-414b236a5e79>\u001b[0m in \u001b[0;36m<module>\u001b[0;34m\u001b[0m\n\u001b[1;32m      1\u001b[0m \u001b[0;31m# Parametrise the protein and the reference ligand.\u001b[0m\u001b[0;34m\u001b[0m\u001b[0;34m\u001b[0m\u001b[0;34m\u001b[0m\u001b[0m\n\u001b[0;32m----> 2\u001b[0;31m \u001b[0mprotein\u001b[0m \u001b[0;34m=\u001b[0m \u001b[0mBSS\u001b[0m\u001b[0;34m.\u001b[0m\u001b[0mParameters\u001b[0m\u001b[0;34m.\u001b[0m\u001b[0mff14SB\u001b[0m\u001b[0;34m(\u001b[0m\u001b[0mprotein\u001b[0m\u001b[0;34m)\u001b[0m\u001b[0;34m.\u001b[0m\u001b[0mgetMolecule\u001b[0m\u001b[0;34m(\u001b[0m\u001b[0;34m)\u001b[0m\u001b[0;34m\u001b[0m\u001b[0;34m\u001b[0m\u001b[0m\n\u001b[0m\u001b[1;32m      3\u001b[0m \u001b[0mref_ligand\u001b[0m \u001b[0;34m=\u001b[0m \u001b[0mBSS\u001b[0m\u001b[0;34m.\u001b[0m\u001b[0mParameters\u001b[0m\u001b[0;34m.\u001b[0m\u001b[0mgaff2\u001b[0m\u001b[0;34m(\u001b[0m\u001b[0mref_ligand\u001b[0m\u001b[0;34m)\u001b[0m\u001b[0;34m.\u001b[0m\u001b[0mgetMolecule\u001b[0m\u001b[0;34m(\u001b[0m\u001b[0;34m)\u001b[0m\u001b[0;34m\u001b[0m\u001b[0;34m\u001b[0m\u001b[0m\n",
      "\u001b[0;32m/opt/conda/lib/python3.7/site-packages/BioSimSpace/Parameters/_process.py\u001b[0m in \u001b[0;36mgetMolecule\u001b[0;34m(self)\u001b[0m\n\u001b[1;32m    225\u001b[0m                 \u001b[0;32mraise\u001b[0m \u001b[0m_ParameterisationError\u001b[0m\u001b[0;34m(\u001b[0m\u001b[0;34m\"Parameterisation failed! Last error: '%s'\"\u001b[0m \u001b[0;34m%\u001b[0m \u001b[0mstr\u001b[0m\u001b[0;34m(\u001b[0m\u001b[0mself\u001b[0m\u001b[0;34m.\u001b[0m\u001b[0m_last_error\u001b[0m\u001b[0;34m)\u001b[0m\u001b[0;34m)\u001b[0m\u001b[0;34m\u001b[0m\u001b[0;34m\u001b[0m\u001b[0m\n\u001b[1;32m    226\u001b[0m             \u001b[0;32melse\u001b[0m\u001b[0;34m:\u001b[0m\u001b[0;34m\u001b[0m\u001b[0;34m\u001b[0m\u001b[0m\n\u001b[0;32m--> 227\u001b[0;31m                 \u001b[0;32mraise\u001b[0m \u001b[0m_ParameterisationError\u001b[0m\u001b[0;34m(\u001b[0m\u001b[0;34m\"Parameterisation failed! Last error: '%s'\"\u001b[0m \u001b[0;34m%\u001b[0m \u001b[0mstr\u001b[0m\u001b[0;34m(\u001b[0m\u001b[0mself\u001b[0m\u001b[0;34m.\u001b[0m\u001b[0m_last_error\u001b[0m\u001b[0;34m)\u001b[0m\u001b[0;34m)\u001b[0m \u001b[0;32mfrom\u001b[0m \u001b[0;32mNone\u001b[0m\u001b[0;34m\u001b[0m\u001b[0;34m\u001b[0m\u001b[0m\n\u001b[0m\u001b[1;32m    228\u001b[0m \u001b[0;34m\u001b[0m\u001b[0m\n\u001b[1;32m    229\u001b[0m         \u001b[0;32mreturn\u001b[0m \u001b[0mself\u001b[0m\u001b[0;34m.\u001b[0m\u001b[0m_new_molecule\u001b[0m\u001b[0;34m\u001b[0m\u001b[0;34m\u001b[0m\u001b[0m\n",
      "\u001b[0;31mParameterisationError\u001b[0m: Parameterisation failed! Last error: 'tLEaP added missing atoms. The topology is now inconsistent with the original molecule. Please make sure that your initial molecule has a complete topology.'"
     ]
    }
   ],
   "source": [
    "# Parametrise the protein and the reference ligand. (?)\n",
    "protein = BSS.Parameters.ff14SB(protein).getMolecule()\n",
    "ref_ligand = BSS.Parameters.gaff2(ref_ligand).getMolecule()"
   ]
  },
  {
   "cell_type": "code",
   "execution_count": 93,
   "id": "194a62dc-fc8b-4daa-944a-253e3dc6b323",
   "metadata": {
    "tags": []
   },
   "outputs": [],
   "source": [
    "def getFreeEnergy(title, ligand):\n",
    "    # Parametrise the ligand.\n",
    "    ligand = BSS.Parameters.gaff2(ligand).getMolecule()\n",
    "    \n",
    "    # Morph and combine systems.\n",
    "    mapping = BSS.Align.matchAtoms(ligand, ref_ligand)\n",
    "    ligand = BSS.Align.RMSDalign(ligand, ref_ligand, mapping)\n",
    "    merged = BSS.Align.merge(ligand, ref_ligand, mapping)\n",
    "    complx = merged + protein \n",
    "\n",
    "    # Solvate the protein ligand complex in a box of water molecules.\n",
    "    complx_sol = BSS.Solvent.tip3p(molecule = complx, box = 3*[90*BSS.Units.Length.angstrom])\n",
    "    # Solvate the merged ligand itself in a smaller box of water molecules.\n",
    "    merged_sol = BSS.Solvent.tip3p(molecule = merged, box = 3*[30*BSS.Units.Length.angstrom])\n",
    "    \n",
    "    # Create the minimisation protocol.\n",
    "    prot_minimisation = BSS.Protocol.Minimisation(steps = 1000)\n",
    "    # Minimise both legs.\n",
    "    proc_minimisation_complx = BSS.MD.run(complx_sol, prot_minimisation)\n",
    "    complx_minimised = proc_minimisation_complx.getSystem(block = True)\n",
    "    proc_minimisation_merged = BSS.MD.run(merged_sol, prot_minimisation)\n",
    "    merged_minimised = proc_minimisation_merged.getSystem(block = True)\n",
    "\n",
    "    # Create the equilibration protocol.\n",
    "    prot_equilibration = BSS.Protocol.Equilibration(timestep = 2*BSS.Units.femtosecond,\n",
    "                                                     runtime = 2*BSS.Units.nanosecond)\n",
    "    # Equilibrate both legs.\n",
    "    proc_equilibration_complx = BSS.MD.run(complx_minimised, prot_equilibration)\n",
    "    complx_equilibrated = proc_equilibration_complx.getSystem(block = True)\n",
    "    proc_equilibration_merged = BSS.MD.run(merged_minimised, prot_equilibration)\n",
    "    merged_equilibrated = proc_equilibrationn_merged.getSystem(block = True)\n",
    "\n",
    "    # Create the free energy protocols.\n",
    "    prot_bound = BSS.Protocol.FreeEnergy(num_lam = 20)\n",
    "    prot_free = BSS.Protocol.FreeEnergy(num_lam = 12)\n",
    "    # Initialise the free energy object for each leg.\n",
    "    fep_bound = BSS.FreeEnergy.Relative(complx_equilibrated,\n",
    "                                        prot_bound,\n",
    "                                        engine = \"somd\",\n",
    "                                        work_dir = title + \"/bound\")\n",
    "    fep_free = BSS.FreeEnergy.Relative(merged_equilibrated,\n",
    "                                       prot_free,\n",
    "                                       engine = \"somd\",\n",
    "                                       work_dir = title + \"/free\")\n",
    "    \n",
    "    # Get the PMF and the overlap matrix.\n",
    "    pmf_bound, overlap_bound = fep_bound.analyse()\n",
    "    pmf_free, overlap_free = fep_free.analyse()\n",
    "    \n",
    "    # Compute the relative free-energy difference with PMF.\n",
    "    binding_free_energy = BSS.FreeEnergy.Relative.difference(pmf_bound, pmf_free)\n",
    "    \n",
    "    return binding_free_energy"
   ]
  },
  {
   "cell_type": "code",
   "execution_count": null,
   "id": "a7d22a92-9dd6-4e65-98d3-3b5075085cff",
   "metadata": {},
   "outputs": [],
   "source": [
    "# Run and save the result to a csv file.\n",
    "\n",
    "df = pd.DataFrame()\n",
    "for title, ligand in ligands.items():\n",
    "    try:\n",
    "        FreeEnergy = getFreeEnergy(title, ligand)\n",
    "        df = df.append({'ligand': title, 'RelativeFE': FreeEnergy[0], 'STD': FreeEnergy[1], 'Error': '0'}, ignore_index = True)\n",
    "    except:\n",
    "        df = df.append({'ligand': title, 'Error': '1'}, ignore_index = True)\n",
    "        \n",
    "if not os.path.exists('FEP_result.csv'):\n",
    "    df.to_csv('FEP_result.csv', index = False)\n",
    "else:\n",
    "    df.to_csv('FEP_result_1.csv', index = False)"
   ]
  },
  {
   "cell_type": "code",
   "execution_count": null,
   "id": "cedcf3c3-b2f5-4e02-b781-d9b0c1436b61",
   "metadata": {},
   "outputs": [],
   "source": [
    "'''\n",
    "node.setOutput()\n",
    "node.validate()\n",
    "'''"
   ]
  }
 ],
 "metadata": {
  "kernelspec": {
   "display_name": "Python 3",
   "language": "python",
   "name": "python3"
  },
  "language_info": {
   "codemirror_mode": {
    "name": "ipython",
    "version": 3
   },
   "file_extension": ".py",
   "mimetype": "text/x-python",
   "name": "python",
   "nbconvert_exporter": "python",
   "pygments_lexer": "ipython3",
   "version": "3.7.8"
  }
 },
 "nbformat": 4,
 "nbformat_minor": 5
}
