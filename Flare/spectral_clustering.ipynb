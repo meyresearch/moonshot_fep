{
 "cells": [
  {
   "cell_type": "code",
   "execution_count": null,
   "id": "dc18903d",
   "metadata": {},
   "outputs": [],
   "source": [
    "import pandas as pd\n",
    "import numpy as np\n",
    "import pyemma as pe\n",
    "import pickle\n",
    "import matplotlib\n",
    "import matplotlib.pyplot as plt"
   ]
  },
  {
   "cell_type": "code",
   "execution_count": null,
   "id": "1ac03765",
   "metadata": {},
   "outputs": [],
   "source": [
    "RMSD_matrix = pd.read_csv('E:\\OneDrive - University of Edinburgh\\MeysBscProject\\Datasets\\Mpro\\RMSD_fmatrix.csv')\n",
    "RMSD_matrix_opt = pd.read_csv('E:\\OneDrive - University of Edinburgh\\MeysBscProject\\Datasets\\Mpro\\RMSD_fmatrix_opt.csv')\n",
    "RMSD_matrix.set_index('sub_crystal_name', inplace = True)\n",
    "RMSD_matrix_opt.set_index('sub_crystal_name', inplace = True)"
   ]
  },
  {
   "cell_type": "code",
   "execution_count": null,
   "id": "d7a3b6d4",
   "metadata": {},
   "outputs": [],
   "source": [
    "Diffusion_matrix = RMSD_matrix_opt.applymap(lambda x: np.exp(-x**2 / (2*0.25)))"
   ]
  },
  {
   "cell_type": "code",
   "execution_count": null,
   "id": "8a489fcc",
   "metadata": {},
   "outputs": [],
   "source": [
    "Transition_matrix = Diffusion_matrix.div(Diffusion_matrix.sum(axis=1), axis=0)"
   ]
  },
  {
   "cell_type": "code",
   "execution_count": null,
   "id": "e39a4be3",
   "metadata": {
    "scrolled": true
   },
   "outputs": [],
   "source": [
    "eigenvalues_list = []\n",
    "epsilon_list = []\n",
    "\n",
    "for epsilon in np.arange(0.1, 0.5, 0.05):\n",
    "    Diffusion_matrix = RMSD_matrix_opt.applymap(lambda x: np.exp(-x**2 / (2*epsilon)))\n",
    "    Transition_matrix = Diffusion_matrix.div(Diffusion_matrix.sum(axis=1), axis=0)\n",
    "    epsilon_list.append(round(epsilon,2))\n",
    "    eigenvalues = np.sort(np.linalg.eig(Transition_matrix)[0])[::-1]\n",
    "    eigenvalues_list.append(eigenvalues[0:10].astype(float))\n",
    "    print('epsilon = %.2f' %epsilon)\n",
    "    print('Top ten eigenvalues')\n",
    "    print(eigenvalues[0:10].astype(float))"
   ]
  },
  {
   "cell_type": "code",
   "execution_count": null,
   "id": "dccf68f3",
   "metadata": {},
   "outputs": [],
   "source": [
    "eigenvalues = []\n",
    "epsilons = []\n",
    "i = 0\n",
    "\n",
    "for group in eigenvalues_list:\n",
    "    for value in group:\n",
    "        epsilons.append(epsilon_list[i])\n",
    "        eigenvalues.append(value)\n",
    "    i+=1"
   ]
  },
  {
   "cell_type": "markdown",
   "id": "7db5a5a8",
   "metadata": {},
   "source": [
    "Plot top 10 eigenvalues for epsilons"
   ]
  },
  {
   "cell_type": "code",
   "execution_count": null,
   "id": "c902c5e7",
   "metadata": {},
   "outputs": [],
   "source": [
    "fig = plt.figure(num=1,figsize=(10,10))\n",
    "\n",
    "ax = fig.add_subplot(111)\n",
    "ax.set_xlim([0.05, 0.5])\n",
    "ax.set_ylim([0,1.1])\n",
    "ax.set_xlabel(\"Epsilon\")\n",
    "ax.set_ylabel(\"Top ten eigenvalues\")\n",
    "ax.scatter(epsilons, eigenvalues)\n",
    "\n",
    "plt.show()"
   ]
  },
  {
   "cell_type": "markdown",
   "id": "872b914e",
   "metadata": {},
   "source": [
    "Clustering with PCCA"
   ]
  },
  {
   "cell_type": "code",
   "execution_count": null,
   "id": "ab01b867",
   "metadata": {},
   "outputs": [],
   "source": [
    "re_index = []\n",
    "n = 1\n",
    "\n",
    "all_clusters = pe.msm.PCCA(Transition_matrix.values,4)\n",
    "for cluster_set in all_clusters.metastable_sets:\n",
    "    print('Size of cluster %i: %i'%(n,len(cluster_set)))\n",
    "    n += 1\n",
    "    for index in cluster_set:\n",
    "        re_index.append(RMSD_matrix_opt.columns[index])"
   ]
  },
  {
   "cell_type": "markdown",
   "id": "e29ad536",
   "metadata": {},
   "source": [
    "Rearrange the RMSD matrix. Print its heatmap."
   ]
  },
  {
   "cell_type": "code",
   "execution_count": null,
   "id": "6bb4017b",
   "metadata": {},
   "outputs": [],
   "source": [
    "RMSD_matrix_re = RMSD_matrix_opt[re_index].T[re_index]"
   ]
  },
  {
   "cell_type": "code",
   "execution_count": null,
   "id": "0c5acebd",
   "metadata": {},
   "outputs": [],
   "source": [
    "import numpy as np\n",
    "import matplotlib\n",
    "import matplotlib.pyplot as plt\n",
    "\n",
    "fig, ax = plt.subplots()\n",
    "im = ax.imshow(RMSD_matrix_re.values,cmap = 'Reds')\n",
    "\n",
    "plt.xticks([])\n",
    "plt.yticks([])\n",
    "\n",
    "cbar = ax.figure.colorbar(im, ax=ax)\n",
    "cbar.ax.set_ylabel('RMSD in [Å]', rotation=-90, va=\"bottom\")\n",
    "\n",
    "ax.set_title(\"RMSD Matrix\")\n",
    "fig.tight_layout()\n",
    "plt.savefig('RMSDHeatMap.jpeg')\n",
    "plt.show()"
   ]
  },
  {
   "cell_type": "code",
   "execution_count": null,
   "id": "dd2d96f8",
   "metadata": {},
   "outputs": [],
   "source": [
    "cluster_table = pd.DataFrame({'sub_crystal_name':re_index})\n",
    "cluster_table['cluster'] = ''\n",
    "cluster_table.loc[0:10,'cluster'] = '1'\n",
    "cluster_table.loc[11:42,'cluster'] = '2'\n",
    "cluster_table.loc[43:,'cluster'] = '3'\n",
    "cluster_table.to_csv(r'cluster_table.csv')"
   ]
  }
 ],
 "metadata": {
  "kernelspec": {
   "display_name": "Python 3",
   "language": "python",
   "name": "python3"
  },
  "language_info": {
   "codemirror_mode": {
    "name": "ipython",
    "version": 3
   },
   "file_extension": ".py",
   "mimetype": "text/x-python",
   "name": "python",
   "nbconvert_exporter": "python",
   "pygments_lexer": "ipython3",
   "version": "3.9.2"
  }
 },
 "nbformat": 4,
 "nbformat_minor": 5
}
