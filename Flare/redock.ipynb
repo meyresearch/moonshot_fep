{
 "cells": [
  {
   "cell_type": "code",
   "execution_count": 2,
   "id": "49025fae",
   "metadata": {
    "scrolled": true
   },
   "outputs": [],
   "source": [
    "from cresset import flare\n",
    "import pandas as pd\n",
    "import numpy as np\n",
    "import os\n",
    "import rdkit\n",
    "from time import process_time"
   ]
  },
  {
   "cell_type": "code",
   "execution_count": 14,
   "id": "468c23b3",
   "metadata": {
    "scrolled": true
   },
   "outputs": [],
   "source": [
    "def get_testset(path):\n",
    "    testset_path = os.path.join(path, r'rescore_result') + '.csv'\n",
    "    print(testset_path)\n",
    "    \n",
    "    if os.path.exists(testset_path) == True:\n",
    "        print('Testset exists')\n",
    "        testset = pd.read_csv(testset_path)\n",
    "    else:\n",
    "        #cluster = pd.read_csv(os.path.join(path, 'cluster_table') + '.csv')\n",
    "        meta = pd.read_csv(os.path.join(path,'metadata') + '.csv')\n",
    "        Mpro_soaks = pd.read_csv(os.path.join(path,'Mpro_soaks') + '.csv')\n",
    "\n",
    "        meta = meta.rename(columns = {'crystal_name':'name','RealCrystalName':'real_name','alternate_name':'CID','smiles':'SMILES_meta','new_smiles':'new_SMILES_meta'})\n",
    "        Mpro_soaks = Mpro_soaks.rename(columns = {'Compound ID':'CID','Rapid Fire avg IC50 (uM)':'R_IC50','Fluorescence avg IC50 (uM)':'F_IC50','Sample Name':'real_name'})\n",
    "        testset = pd.merge(meta, Mpro_soaks, how = 'left', on = 'name')\n",
    "        testset = testset[~testset['F_IC50'].isnull()].sort_values(by = ['site_name','name'])[['site_name','name','real_name','SMILES_meta','CID','R_IC50','F_IC50']].reset_index(drop = True)\n",
    "        #testset = pd.merge(testset, cluster[['sub_crystal_name','cluster']], how = 'left', on = 'name')\n",
    "        \n",
    "        trueCID = {'Mpro-P0243':'EDJ-MED-d08626de-4',\n",
    "                   'Mpro-P0793':'EDG-MED-5d232de5-8',\n",
    "                   'Mpro-P0816':'EDG-MED-5d232de5-7'}\n",
    "        for k,v in trueCID.items():\n",
    "            row = (testset.crystal_name == k)\n",
    "            testset.loc[row, 'compound_ID_meta'] = v\n",
    "            testset.loc[row, 'compound_ID_soaks'] = v\n",
    "        \n",
    "        testset = testset[testset['F_IC50'] < 99]\n",
    "        testset.drop_duplicates(subset = ['crystal_name'], keep = 'first', inplace = True)\n",
    "        testset['pIC50'] = -np.log10(testset['F_IC50']/1000000)\n",
    "        testset = testset.reset_index(drop = True)\n",
    "        #testset.to_csv(testset_path, index = 0)\n",
    "    return testset"
   ]
  },
  {
   "cell_type": "code",
   "execution_count": 4,
   "id": "f6c7fd9a",
   "metadata": {
    "scrolled": true
   },
   "outputs": [],
   "source": [
    "def get_protein(project, title, nb_dir):\n",
    "    protein_path = os.path.join(nb_dir, 'protein', title) + '.pdb'\n",
    "    \n",
    "    if os.path.exists(protein_path):\n",
    "        project.proteins.extend(flare.read_file(protein_path))\n",
    "        protein = project.proteins[-1]\n",
    "        protein.title = title\n",
    "        \n",
    "        print('\\nPreparing complex ' + title)\n",
    "        prep = flare.ProteinPrep()\n",
    "        prep.proteins = [protein]\n",
    "        prep.start()\n",
    "        prep.wait()\n",
    "        \n",
    "        print('Minimising complex ' + title)\n",
    "        minimization = flare.Minimization()\n",
    "        minimization.protein = protein\n",
    "        minimization.start()\n",
    "        minimization.wait()\n",
    "    return project.proteins[-1]"
   ]
  },
  {
   "cell_type": "code",
   "execution_count": 5,
   "id": "bf6c552b",
   "metadata": {
    "scrolled": true
   },
   "outputs": [],
   "source": [
    "def get_ligands(project, testset, path):\n",
    "    raw_list = []\n",
    "    redock_list = []\n",
    "    dock_list = []\n",
    "    for index, row in testset.iterrows():\n",
    "        title = row['sub_crystal_name']\n",
    "        #smiles = row['SMILES']\n",
    "        ligand_path = os.path.join(path, 'aligned', title, title) + '.pdb'\n",
    "        project.ligands.extend(flare.read_file(ligand_path))\n",
    "        project.ligands[-1].title = title + '_raw'\n",
    "        project.ligands[-1].add_hydrogens()\n",
    "        raw_list.append(project.ligands[-1])\n",
    "\n",
    "        project.ligands.append(project.ligands[-1])\n",
    "        project.ligands[-1].title = title + '_redock'\n",
    "        redock_list.append(project.ligands[-1])\n",
    "        \n",
    "        lig = proj.ligands[-1].to_rdmol()\n",
    "        smiles = rdkit.Chem.rdmolfiles.MolToSmiles(lig)\n",
    "        project.ligands.extend(flare.read_string(smiles,'smi'))\n",
    "        project.ligands[-1].add_hydrogens()\n",
    "        project.ligands[-1].title = title + '_dock'\n",
    "        dock_list.append(project.ligands[-1])\n",
    "    return raw_list, redock_list, dock_list"
   ]
  },
  {
   "cell_type": "code",
   "execution_count": 6,
   "id": "552aabed",
   "metadata": {
    "scrolled": true
   },
   "outputs": [],
   "source": [
    "def get_gridbox(project, title, path):\n",
    "    ref_path = os.path.join(path,'protein',title) + '.pdb'\n",
    "    project.ligands.extend(flare.read_file(ref_path))\n",
    "    x,y,z=0,0,0\n",
    "    count = 0\n",
    "    for atom in project.ligands[-1].atoms:\n",
    "        if 'H' not in atom.name:\n",
    "            count += 1\n",
    "            x += atom.pos[0]\n",
    "            y += atom.pos[1]\n",
    "            z += atom.pos[2]\n",
    "    x = np.divide(x,count)\n",
    "    y = np.divide(y,count)            \n",
    "    z = np.divide(z,count)   \n",
    "    project.ligands.remove(project.ligands[-1])\n",
    "    print('Binding site centroid coordinates ', x,y,z)\n",
    "    return ((x-15,y-15,z-15),(x+15,y+15,z+15))"
   ]
  },
  {
   "cell_type": "code",
   "execution_count": 7,
   "id": "f868a266",
   "metadata": {
    "scrolled": true
   },
   "outputs": [],
   "source": [
    "def get_testset(path):\n",
    "    testset_path = os.path.join(path,'testset') + '.csv'\n",
    "    \n",
    "    if os.path.exists(testset_path) == True:\n",
    "        testset = pd.read_csv(testset_path)\n",
    "    else:\n",
    "        cluster = pd.read_csv(os.path.join(path, 'cluster_table') + '.csv')\n",
    "        meta = pd.read_csv(os.path.join(path,'Mpro','metadata') + '.csv')\n",
    "        Mpro_soaks = pd.read_csv(os.path.join(path,'Mpro','Mpro_soaks') + '.csv')\n",
    "        Mpro_cocrystallisation = pd.read_csv(os.path.join(path,'Mpro','Mpro_cocrystallisation') + '.csv')\n",
    "\n",
    "        meta = meta.rename(columns = {'crystal_name':'sub_crystal_name','RealCrystalName':'crystal_name','alternate_name':'compound_ID_meta','smiles':'smiles_meta_0','new_smiles':'smiles_meta_1'})\n",
    "        Mpro_soaks = Mpro_soaks.rename(columns = {'Compound ID':'compound_ID_soaks','Rapid Fire avg IC50 (uM)':'R_IC50','Fluorescence avg IC50 (uM)':'F_IC50','Sample Name':'crystal_name'})\n",
    "        testset = pd.merge(meta, Mpro_soaks, how = 'left', on = 'crystal_name')\n",
    "        testset = testset[~testset['F_IC50'].isnull()].sort_values(by = ['site_name','crystal_name'])[['site_name','sub_crystal_name','crystal_name','SMILES','compound_ID_meta','compound_ID_soaks','R_IC50','F_IC50']].reset_index(drop = True).copy()\n",
    "        testset = pd.merge(testset, cluster[['sub_crystal_name','cluster']], how = 'left', on = 'sub_crystal_name')\n",
    "        \n",
    "        trueCID = {'Mpro-P0243':'EDJ-MED-d08626de-4',\n",
    "                   'Mpro-P0793':'EDG-MED-5d232de5-8',\n",
    "                   'Mpro-P0816':'EDG-MED-5d232de5-7'}\n",
    "        for k,v in trueCID.items():\n",
    "            row = (testset.crystal_name == k)\n",
    "            testset.loc[row, 'compound_ID_meta'] = v\n",
    "            testset.loc[row, 'compound_ID_soaks'] = v\n",
    "        \n",
    "        testset = testset[testset['F_IC50'] < 99]\n",
    "        testset.drop_duplicates(subsets = ['crystal_name'], keep = 'first', inplace = True)\n",
    "        testset = testset.reset_index(drop = True)\n",
    "        testset.to_csv(testset_path, index = 0)\n",
    "    return testset"
   ]
  },
  {
   "cell_type": "code",
   "execution_count": 8,
   "id": "9fe9ca79",
   "metadata": {
    "scrolled": true
   },
   "outputs": [],
   "source": [
    "def getDisSquare(cord1, cord2):\n",
    "    DisSquare = 0\n",
    "    for a,b in zip(cord1,cord2):\n",
    "        DisSquare += np.square(a-b)\n",
    "    return DisSquare"
   ]
  },
  {
   "cell_type": "code",
   "execution_count": 9,
   "id": "b52c9764",
   "metadata": {
    "scrolled": true
   },
   "outputs": [],
   "source": [
    "def get_RMSD(refLig, dockLig, df, protocol):\n",
    "    RMSD_list = []\n",
    "    df_result = df.copy().set_index(['sub_crystal_name'],drop = True)\n",
    "    title = refLig.title.rsplit('_',1)[0]\n",
    "    for n in range(len(dockLig.poses)):\n",
    "        DisSquare = 0\n",
    "        nonH_count = 0\n",
    "        for atom_r, atom_d in zip(refLig.atoms, dockLig.poses[n].atoms):\n",
    "            if 'H' in atom_r.name or 'H' in atom_d.name:\n",
    "                pass\n",
    "            else:\n",
    "                if atom_r.name == atom_d.name:\n",
    "                    nonH_count += 1\n",
    "                    DisSquare += getDisSquare(atom_r.pos,atom_d.pos)\n",
    "                else:\n",
    "                    print('exception, return initial df')\n",
    "                    return df\n",
    "        RMSD = np.divide(np.sqrt(DisSquare),nonH_count)\n",
    "        RMSD_list.append(RMSD)\n",
    "        df_result.loc[title,'Pose' + str(n) + '_' + protocol] = RMSD\n",
    "    df_result.loc[title,'BestRMSD' + '_' + protocol] = min(RMSD_list)\n",
    "    df_result = df_result.reset_index()\n",
    "    return df_result"
   ]
  },
  {
   "cell_type": "code",
   "execution_count": 10,
   "id": "3cf781ef",
   "metadata": {
    "scrolled": true
   },
   "outputs": [],
   "source": [
    "def get_rdkit_RMSD(refLig, dockLig, df, protocol):\n",
    "    RMSD_list = []\n",
    "    title = refLig.title.rsplit('_',1)[0]\n",
    "    df_result = df.copy().set_index(['sub_crystal_name'],drop = True)\n",
    "    ref = refLig.to_rdmol()\n",
    "    for n in range(len(dockLig.poses)):\n",
    "        lig = dockLig.poses[n].to_rdmol()\n",
    "        #RMSD = rdkit.Chem.rdMolAlign.AlignMol(lig, ref)\n",
    "        try:\n",
    "            RMSD_noH = rdkit.Chem.rdMolAlign.AlignMol(rdkit.Chem.rdmolops.RemoveAllHs(lig), rdkit.Chem.rdmolops.RemoveAllHs(ref))\n",
    "        except:\n",
    "            RMSD_noH = 9999\n",
    "        RMSD_list.append(RMSD_noH)\n",
    "        df_result.loc[title,'Pose' + str(n) + '_' + protocol] = RMSD_noH\n",
    "    if len(RMSD_list)>0: \n",
    "        df_result.loc[title,'BestRMSD' + '_' + protocol] = min(RMSD_list)\n",
    "    df_result = df_result.reset_index()\n",
    "    return df_result        "
   ]
  },
  {
   "cell_type": "code",
   "execution_count": 11,
   "id": "9f2e38a5",
   "metadata": {
    "scrolled": true
   },
   "outputs": [],
   "source": [
    "def get_prop(ligand, df, protocol):\n",
    "    result = ligand.properties.items()\n",
    "    print(ligand.title)\n",
    "    title = ligand.title.rsplit('_',1)[0]\n",
    "    df = df.set_index(['sub_crystal_name'], drop = True)\n",
    "    df.loc[title,'dG_'+ protocol] = result[-4][1].value\n",
    "    df.loc[title,'RS_'+ protocol] = result[-5][1].value\n",
    "    df.loc[title,'VS_'+ protocol] = result[-3][1].value\n",
    "    df.loc[title,'LE_'+ protocol] = result[-2][1].value    \n",
    "    df = df.reset_index()\n",
    "    return df"
   ]
  },
  {
   "cell_type": "code",
   "execution_count": 13,
   "id": "7b3dde75",
   "metadata": {
    "scrolled": true
   },
   "outputs": [],
   "source": [
    "if __name__ == \"__main__\":\n",
    "    nb_dir = 'D:\\JupyterNotebook\\BSc\\Flare'\n",
    "\n",
    "    testset = get_testset(nb_dir)\n",
    "    test_result = testset.copy()\n",
    "    proj = flare.Project()\n",
    "    \n",
    "    gridbox = get_gridbox(proj, '6lu7_ligand', nb_dir)\n",
    "    redock = flare.Docking()\n",
    "    dock = flare.Docking()\n",
    "    \n",
    "    get_protein(proj,'6lu7', nb_dir)\n",
    "    raw_list, redock_list, dock_list = get_ligands(proj, testset, nb_dir)\n",
    "    \n",
    "    redock.protein = proj.proteins[-1]\n",
    "    dock.protein = proj.proteins[-1]\n",
    "    redock.ligands = redock_list\n",
    "    dock.ligands = dock_list\n",
    "    \n",
    "    redock.max_poses = 5\n",
    "    redock.system.quality = flare.LeadFinderSystem.Quality.ExtraPrecision\n",
    "    dock.max_poses = 5\n",
    "    dock.system.quality = flare.LeadFinderSystem.Quality.ExtraPrecision\n",
    "    redock.system.grid_box = gridbox\n",
    "    dock.system.grid_box = gridbox\n",
    "    redock.sequences = proj.proteins[-1].sequences\n",
    "    dock.sequences = proj.proteins[-1].sequences\n",
    "    \n",
    "    stdtime = time.time()\n",
    "    print('Redocking ...')\n",
    "    redock.start()\n",
    "    while (redock.is_running()):\n",
    "        print(redock.progress())\n",
    "        time.sleep(120 - ((time.time() - stdtime) % 120))\n",
    "    print('Docking from scratch ...')\n",
    "    dock.start()\n",
    "    while (dock.is_running()):\n",
    "        print(dock.progress())\n",
    "        time.sleep(120 - ((time.time() - stdtime) % 120))\n",
    "    tottime = time.time()-stdtime\n",
    "    print('Time', tottime)\n",
    "    \n",
    "    proj.save(os.path.join(nb_dir, 'redock') + '.flr')\n",
    "    print('Project saved')\n",
    "    print('Solving results')    \n",
    "    for redock_lig, raw_lig in zip(redock_list, raw_list):\n",
    "        test_result = get_prop(redock_lig, test_result, 'redock')\n",
    "        test_result = get_rdkit_RMSD(raw_lig, redock_lig, test_result, 'redock')\n",
    "    for dock_lig, raw_lig in zip(dock_list, raw_list):\n",
    "        test_result = get_prop(dock_lig, test_result, 'dock')\n",
    "        test_result = get_rdkit_RMSD(raw_lig, dock_lig, test_result, 'dock')\n",
    "\n",
    "    test_result.to_csv(os.path.join(nb_dir, 'redock_rescore_result')+ '.csv', index = 0)\n",
    "    print('Result saved')"
   ]
  },
  {
   "cell_type": "code",
   "execution_count": 17,
   "id": "b0393eed",
   "metadata": {},
   "outputs": [],
   "source": [
    "nb_dir = 'D:\\JupyterNotebook\\BSc\\Flare'\n",
    "testset = get_testset(nb_dir)\n",
    "\n",
    "for redock_lig, raw_lig in zip(redock.ligands, raw_list):\n",
    "    test_result = get_prop(redock_lig, test_result, 'redock')\n",
    "    test_result = get_rdkit_RMSD(raw_lig, redock_lig, test_result, 'redock')\n",
    "for dock_lig, raw_lig in zip(dock.ligands, raw_list):\n",
    "    test_result = get_prop(dock_lig, test_result, 'dock')\n",
    "    test_result = get_rdkit_RMSD(raw_lig, dock_lig, test_result, 'dock')\n",
    "\n",
    "test_result.to_csv(os.path.join(nb_dir, 'redock_rescore_result')+ '.csv', index = 0)\n",
    "print('Result saved')"
   ]
  }
 ],
 "metadata": {
  "kernelspec": {
   "display_name": "Python 3",
   "language": "python",
   "name": "python3"
  },
  "language_info": {
   "codemirror_mode": {
    "name": "ipython",
    "version": 3
   },
   "file_extension": ".py",
   "mimetype": "text/x-python",
   "name": "python",
   "nbconvert_exporter": "python",
   "pygments_lexer": "ipython3",
   "version": "3.9.2"
  }
 },
 "nbformat": 4,
 "nbformat_minor": 5
}
